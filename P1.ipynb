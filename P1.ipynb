{
 "cells": [
  {
   "cell_type": "code",
   "execution_count": 1,
   "id": "8ffd9927-7bd8-4c1f-97bf-3127fc15160f",
   "metadata": {},
   "outputs": [],
   "source": [
    "import pandas as pd\n",
    "import requests"
   ]
  },
  {
   "cell_type": "code",
   "execution_count": 2,
   "id": "51b2ff2a-954c-4ef7-8355-7edeee8c4fc0",
   "metadata": {},
   "outputs": [],
   "source": [
    "API_KEY = \"1676794f-0968-4586-b2b7-07c66390cc92\""
   ]
  },
  {
   "cell_type": "code",
   "execution_count": 3,
   "id": "ad50346d-467e-48d8-8fd8-0962f78b5595",
   "metadata": {},
   "outputs": [],
   "source": [
    "url = \"https://content.guardianapis.com/world/narendra-modi?from=date=2021-01-01&api-key=1676794f-0968-4586-b2b7-07c66390cc92&type=article&page=1\""
   ]
  },
  {
   "cell_type": "code",
   "execution_count": 4,
   "id": "7fa48365-315d-4224-9bc1-f568711723e2",
   "metadata": {},
   "outputs": [],
   "source": [
    "urllist = []"
   ]
  },
  {
   "cell_type": "code",
   "execution_count": 29,
   "id": "3799c7ac-9ddd-436f-b4f9-62087c4f1e5a",
   "metadata": {},
   "outputs": [],
   "source": [
    "for i in range (0,10):\n",
    "    a = f\"https://content.guardianapis.com/world/narendra-modi?from=date=2021-01-01&api-key=1676794f-0968-4586-b2b7-07c66390cc92&type=article&page=\"\n",
    "    urllist.append(c)"
   ]
  },
  {
   "cell_type": "code",
   "execution_count": null,
   "id": "1d778fa2-3ab8-4cff-a143-74aaeb7abc6b",
   "metadata": {},
   "outputs": [],
   "source": [
    "info = []"
   ]
  },
  {
   "cell_type": "code",
   "execution_count": 31,
   "id": "a0f62579-95a7-4dda-bbce-d0132f5b19a3",
   "metadata": {},
   "outputs": [],
   "source": [
    "def fetch_json(url):\n",
    "    response = requests.get(url)\n",
    "    if response.status_code == 200:\n",
    "        info.append(response.json())\n",
    "    else:\n",
    "        print(f\"Failed to retrieve data from {url}: {response.status_code}\")"
   ]
  },
  {
   "cell_type": "code",
   "execution_count": 32,
   "id": "2002512b-8620-4ae8-add4-d09942ebf03a",
   "metadata": {},
   "outputs": [
    {
     "name": "stdout",
     "output_type": "stream",
     "text": [
      "Failed to retrieve data from https://content.guardianapis.com/world/narendra-modi?from=date=2021-01-01&api-key=1676794f-0968-4586-b2b7-07c66390cc92&type=article&page=0: 400\n",
      "Failed to retrieve data from https://content.guardianapis.com/world/narendra-modi?from=date=2021-01-01&api-key=1676794f-0968-4586-b2b7-07c66390cc92&type=article&page=0: 400\n"
     ]
    }
   ],
   "source": [
    "for url in urllist:\n",
    "    fetch_json(url)"
   ]
  },
  {
   "cell_type": "code",
   "execution_count": 33,
   "id": "90df6157-c22b-40f9-ace0-7f5633ff6867",
   "metadata": {},
   "outputs": [],
   "source": [
    "finallist = []"
   ]
  },
  {
   "cell_type": "code",
   "execution_count": 34,
   "id": "e0987a75-7894-45d7-acf9-85ba0183fb1b",
   "metadata": {},
   "outputs": [],
   "source": [
    "try:\n",
    "    for item in info:\n",
    "        if 'response' in item and 'results' in item['response']:\n",
    "            for result in item['response']['results']:\n",
    "                value = dict(\n",
    "                    webtitle=result.get('webTitle', 'N/A'),\n",
    "                    sectionname=result.get('sectionName', 'N/A'),\n",
    "                    publisheddate=result.get('webPublicationDate', 'N/A')\n",
    "                )\n",
    "                finallist.append(value)\n",
    "except (IndexError, KeyError) as e:\n",
    "    print(f\"An error occurred: {e}\")"
   ]
  },
  {
   "cell_type": "code",
   "execution_count": 24,
   "id": "e29e6227-216f-417e-ad83-e00dd199d288",
   "metadata": {},
   "outputs": [
    {
     "name": "stdout",
     "output_type": "stream",
     "text": [
      "19\n"
     ]
    }
   ],
   "source": [
    "print(len(info))"
   ]
  },
  {
   "cell_type": "code",
   "execution_count": 25,
   "id": "4a5fcb8d-2646-497c-8fff-64f2724d21d9",
   "metadata": {},
   "outputs": [
    {
     "name": "stdout",
     "output_type": "stream",
     "text": [
      "[{'webtitle': '‘Nobody knows what I know’: how a loyal RSS member abandoned Hindu nationalism', 'sectionname': 'World news', 'publisheddate': '2024-08-01T04:00:35Z'}, {'webtitle': 'The New India by Rahul Bhatia review – how nationalism changed a country', 'sectionname': 'Books', 'publisheddate': '2024-07-31T06:30:16Z'}, {'webtitle': 'Why is Modi sucking up to Putin? It’s simple and cynical: China and oil | Sergey Radchenko', 'sectionname': 'Opinion', 'publisheddate': '2024-07-10T10:00:53Z'}, {'webtitle': 'Modi and Putin cement ‘bonds of friendship’ despite Ukraine tensions', 'sectionname': 'World news', 'publisheddate': '2024-07-09T14:25:08Z'}, {'webtitle': 'India PM Modi to meet Putin in first trip to Russia since Ukraine war began', 'sectionname': 'World news', 'publisheddate': '2024-07-05T01:48:48Z'}, {'webtitle': 'Open letter in India calls for withdrawal of go-ahead to prosecute Arundhati Roy', 'sectionname': 'World news', 'publisheddate': '2024-06-23T15:59:48Z'}, {'webtitle': 'The hounding of Arundhati Roy shows there’s still no room for dissent in India | Salil Tripathi', 'sectionname': 'Opinion', 'publisheddate': '2024-06-21T14:32:37Z'}, {'webtitle': 'Consensus or division? How Modi will manage Indian coalition government', 'sectionname': 'World news', 'publisheddate': '2024-06-17T07:27:53Z'}, {'webtitle': 'India: author Arundhati Roy to be prosecuted over 2010 Kashmir remarks', 'sectionname': 'World news', 'publisheddate': '2024-06-15T14:07:37Z'}, {'webtitle': 'Narendra Modi sworn in for third term as prime minister of India', 'sectionname': 'World news', 'publisheddate': '2024-06-09T15:21:08Z'}, {'webtitle': '‘Indian democracy fought back’: Modi humbled as opposition gains ground', 'sectionname': 'World news', 'publisheddate': '2024-06-09T10:08:10Z'}, {'webtitle': '‘A sweet breeze amid a heatwave’: liberals feel hope again following Narendra Modi’s loss of his majority ', 'sectionname': 'World news', 'publisheddate': '2024-06-08T16:08:56Z'}, {'webtitle': 'Muted election win for Modi may usher in new era for India’s oligarch class', 'sectionname': 'World news', 'publisheddate': '2024-06-07T13:27:17Z'}, {'webtitle': 'British Indians: share your reaction to the election in India', 'sectionname': 'World news', 'publisheddate': '2024-06-07T10:29:05Z'}, {'webtitle': 'Narendra Modi faces first coalition test as allied parties demand cabinet seats', 'sectionname': 'World news', 'publisheddate': '2024-06-06T17:10:53Z'}, {'webtitle': 'Thursday briefing: Narendra Modi reaches a crossroads as India denies him a majority in election upset', 'sectionname': 'World news', 'publisheddate': '2024-06-06T05:49:38Z'}, {'webtitle': 'Narendra Modi wins backing of allies to form Indian government', 'sectionname': 'World news', 'publisheddate': '2024-06-05T18:28:43Z'}, {'webtitle': '‘Bit of a moment for Rahul Gandhi’: new dawn for India’s opposition, but where to now?', 'sectionname': 'World news', 'publisheddate': '2024-06-05T18:13:26Z'}, {'webtitle': 'The Guardian view on Modi’s election disappointment: the winner is democracy in India | Editorial', 'sectionname': 'Opinion', 'publisheddate': '2024-06-05T17:30:28Z'}, {'webtitle': 'How voters turned against Narendra Modi in his party’s heartland', 'sectionname': 'World news', 'publisheddate': '2024-06-05T15:25:05Z'}, {'webtitle': 'The hidden story behind India’s remarkable election results: lethal heat | Amitava Kumar', 'sectionname': 'Opinion', 'publisheddate': '2024-06-05T14:14:46Z'}, {'webtitle': 'Modi loses parliamentary majority in Indian election', 'sectionname': 'World news', 'publisheddate': '2024-06-05T00:59:10Z'}, {'webtitle': 'Narendra Modi loses aura of invincibility as predicted landslide fails to materialise', 'sectionname': 'World news', 'publisheddate': '2024-06-04T18:52:31Z'}, {'webtitle': 'John Oliver on Narendra Modi: ‘India seems to be sliding toward authoritarianism’', 'sectionname': 'Television & radio', 'publisheddate': '2024-06-03T16:24:03Z'}, {'webtitle': 'India elections: exit polls show Narendra Modi expected to win historic third term', 'sectionname': 'World news', 'publisheddate': '2024-06-03T03:50:16Z'}, {'webtitle': 'The Incarcerations: BK-16 and the Search for Democracy in India by Alpa Shah – review', 'sectionname': 'Books', 'publisheddate': '2024-06-02T15:00:07Z'}, {'webtitle': 'The Guardian view on India’s election: Narendra Modi’s audacity of hate | Editorial', 'sectionname': 'Opinion', 'publisheddate': '2024-05-30T17:52:58Z'}, {'webtitle': 'India elections: PM Narendra Modi claims he has been chosen by God', 'sectionname': 'World news', 'publisheddate': '2024-05-27T06:56:56Z'}, {'webtitle': 'More than half the world cannot speak freely, report finds', 'sectionname': 'Global development', 'publisheddate': '2024-05-22T03:00:03Z'}, {'webtitle': 'Revealed: Meta approved political ads in India that incited violence', 'sectionname': 'World news', 'publisheddate': '2024-05-20T10:00:02Z'}, {'webtitle': '‘Modi builds highways but where are our jobs?’: rising inequality looms over India’s election ', 'sectionname': 'World news', 'publisheddate': '2024-05-20T02:00:52Z'}, {'webtitle': '‘He likes scaring people’: how Modi’s right-hand man, Amit Shah, runs India', 'sectionname': 'World news', 'publisheddate': '2024-05-16T04:00:57Z'}, {'webtitle': '‘Pressured to withdraw’: BJP accused of intimidation tactics in India polls ', 'sectionname': 'World news', 'publisheddate': '2024-05-14T02:00:22Z'}, {'webtitle': 'Can Modi finally win over the southern states and reshape India’s electoral map?', 'sectionname': 'World news', 'publisheddate': '2024-05-07T03:00:03Z'}, {'webtitle': 'With India’s election in full swing, Narendra Modi is getting desperate – and dangerous | Salil Tripathi', 'sectionname': 'Opinion', 'publisheddate': '2024-04-29T12:51:42Z'}, {'webtitle': 'India election: fears that Modi’s BJP will polarise voters in fight for key state', 'sectionname': 'World news', 'publisheddate': '2024-04-26T01:00:24Z'}, {'webtitle': 'Narendra Modi accused of stirring tensions as voting in India continues', 'sectionname': 'World news', 'publisheddate': '2024-04-22T17:35:16Z'}, {'webtitle': 'As India goes to the polls, can democracy deliver a better life for all of its people? ', 'sectionname': 'Global development', 'publisheddate': '2024-04-20T06:30:19Z'}, {'webtitle': '‘Messianic spell’: how Narendra Modi created a cult of personality', 'sectionname': 'World news', 'publisheddate': '2024-04-19T12:08:31Z'}, {'webtitle': 'Voting begins in India’s election with Modi widely expected to win third term', 'sectionname': 'World news', 'publisheddate': '2024-04-19T02:30:01Z'}, {'webtitle': 'Six weeks, 969 million voters, 2,600 parties: India’s mammoth election explained', 'sectionname': 'World news', 'publisheddate': '2024-04-18T04:00:20Z'}, {'webtitle': 'The Guardian view on India’s election: fixing a win by outlawing dissent damages democracy | Editorial', 'sectionname': 'Opinion', 'publisheddate': '2024-04-17T17:32:19Z'}, {'webtitle': 'Brought to boil: inside the 19 April Guardian Weekly', 'sectionname': 'News', 'publisheddate': '2024-04-17T17:05:08Z'}, {'webtitle': '‘I was told I’d be killed if I didn’t leave’: Himalayan state is a testing ground for Modi’s nationalism', 'sectionname': 'World news', 'publisheddate': '2024-04-14T10:00:50Z'}, {'webtitle': 'A nagging doubt plagues world leaders wooing India: whose side is Narendra Modi really on? | Simon Tisdall', 'sectionname': 'Opinion', 'publisheddate': '2024-04-13T15:00:26Z'}, {'webtitle': '‘BJP v democracy’: India’s opposition alliance cries foul as election nears', 'sectionname': 'World news', 'publisheddate': '2024-04-09T01:00:37Z'}, {'webtitle': 'India appears to confirm extrajudicial killings in Pakistan', 'sectionname': 'World news', 'publisheddate': '2024-04-05T15:40:16Z'}, {'webtitle': 'Arvind Kejriwal: the Delhi chief minister jailed by Modi’s government', 'sectionname': 'World news', 'publisheddate': '2024-03-28T18:10:52Z'}, {'webtitle': '‘Brazen propaganda’: pro-Modi films flood Bollywood before India election', 'sectionname': 'Film', 'publisheddate': '2024-03-22T11:32:51Z'}, {'webtitle': 'Who congratulated Putin on his election victory and what does it say about global alliances?', 'sectionname': 'World news', 'publisheddate': '2024-03-19T05:45:57Z'}, {'webtitle': 'Narendra Modi’s BJP given £570m under scheme allowing anonymous donations', 'sectionname': 'World news', 'publisheddate': '2024-03-15T13:16:54Z'}, {'webtitle': 'Narendra Modi visits Kashmir for first time since state’s autonomy stripped', 'sectionname': 'World news', 'publisheddate': '2024-03-07T11:12:16Z'}, {'webtitle': '‘Why are you asleep?’ Rahul Gandhi pleads with India’s low castes to vote out Modi', 'sectionname': 'World news', 'publisheddate': '2024-02-27T04:00:10Z'}, {'webtitle': 'India confronts Google over Gemini AI tool’s ‘fascist Modi’ responses', 'sectionname': 'World news', 'publisheddate': '2024-02-26T09:42:29Z'}, {'webtitle': 'The Guardian view on Modi in Ayodhya: an alarming new era for India | Editorial', 'sectionname': 'Opinion', 'publisheddate': '2024-01-22T18:42:19Z'}, {'webtitle': 'As petals rained down and celebrities beamed, Modi unveiled his vision of a Hindu India | Mukul Kesavan', 'sectionname': 'Opinion', 'publisheddate': '2024-01-22T14:18:35Z'}, {'webtitle': 'Modi inaugurates Hindu temple on site of razed mosque in India', 'sectionname': 'World news', 'publisheddate': '2024-01-22T08:17:14Z'}, {'webtitle': 'Divine moment or political gimmick? India gears up to inaugurate huge Hindu temple', 'sectionname': 'World news', 'publisheddate': '2024-01-15T13:49:18Z'}, {'webtitle': 'Modi trip to Indian islands prompts Maldives row', 'sectionname': 'World news', 'publisheddate': '2024-01-08T10:00:45Z'}, {'webtitle': 'BJP win in India’s 2024 general election ‘almost an inevitability’', 'sectionname': 'World news', 'publisheddate': '2023-12-31T09:02:05Z'}, {'webtitle': 'The world in 2024: Guardian writers on what to look out for', 'sectionname': 'World news', 'publisheddate': '2023-12-30T12:00:33Z'}, {'webtitle': 'The Guardian view on the power of hope: a Christmas gift in dark times | Editorial', 'sectionname': 'Opinion', 'publisheddate': '2023-12-22T18:30:03Z'}, {'webtitle': 'An MP, her ex and their dog: Mahua Moitra’s battle with India’s parliament', 'sectionname': 'World news', 'publisheddate': '2023-12-22T03:01:43Z'}, {'webtitle': 'Indian government accused of attack on democracy as 141 MPs suspended', 'sectionname': 'World news', 'publisheddate': '2023-12-19T16:29:06Z'}, {'webtitle': 'India’s supreme court upholds decision to strip Kashmir of special status', 'sectionname': 'World news', 'publisheddate': '2023-12-11T09:48:46Z'}, {'webtitle': 'No 10 team arrives in Delhi to revive talks over free trade deal', 'sectionname': 'Politics', 'publisheddate': '2023-12-08T15:56:12Z'}, {'webtitle': 'India takes strong pro-Israel stance under Modi in a departure from the past', 'sectionname': 'World news', 'publisheddate': '2023-10-31T05:00:34Z'}, {'webtitle': 'Arundhati Roy is being hounded by the Indian state. This is a test case for its democracy | Meena Kandasamy', 'sectionname': 'Opinion', 'publisheddate': '2023-10-20T11:35:24Z'}, {'webtitle': 'The Guardian view on World Cup sportwashing: money talks – and what it says is troubling | Editorial', 'sectionname': 'Opinion', 'publisheddate': '2023-10-08T17:25:47Z'}, {'webtitle': 'Delhi police search journalists’ homes in latest raids on media', 'sectionname': 'World news', 'publisheddate': '2023-10-03T15:16:27Z'}, {'webtitle': '‘A tool of political control’: how India became the world leader in internet blackouts', 'sectionname': 'World news', 'publisheddate': '2023-09-25T05:01:41Z'}, {'webtitle': 'The Observer view on assassination of Sikh in Canada: Narendra Modi’s hubris is ill-judged | Observer editorial', 'sectionname': 'Opinion', 'publisheddate': '2023-09-24T05:04:13Z'}, {'webtitle': 'How should UK, US and Australia respond to Canada-India row?', 'sectionname': 'World news', 'publisheddate': '2023-09-20T18:52:20Z'}, {'webtitle': ' Canada killing adds to suspicions of Indian crackdown on Sikh separatists', 'sectionname': 'World news', 'publisheddate': '2023-09-19T18:33:17Z'}, {'webtitle': 'The Guardian view on Canada and India: from partnership to public claims of a killing | Editorial', 'sectionname': 'Opinion', 'publisheddate': '2023-09-19T18:14:45Z'}, {'webtitle': '‘Chill out’: Albanese asked about calling Indian PM ‘the boss’ as storm brews over alleged assassination', 'sectionname': 'Australia news', 'publisheddate': '2023-09-19T06:19:27Z'}, {'webtitle': '‘Credible allegations’ link India to killing of Sikh leader, says Trudeau', 'sectionname': 'World news', 'publisheddate': '2023-09-19T03:06:00Z'}, {'webtitle': 'Watered-down G20 statement on Ukraine is sign of India’s growing influence', 'sectionname': 'World news', 'publisheddate': '2023-09-10T13:01:35Z'}, {'webtitle': 'Modi has boosted his image, but the G20 summit looks set to achieve little else | Observer editorial', 'sectionname': 'Opinion', 'publisheddate': '2023-09-10T05:03:42Z'}, {'webtitle': 'G20 leaders agree joint declaration after deal on Ukraine statement', 'sectionname': 'World news', 'publisheddate': '2023-09-09T13:16:53Z'}, {'webtitle': 'What Modi won’t show the G20: Muslims killed, harassed by the police and abused in school | Rana Ayyub', 'sectionname': 'Opinion', 'publisheddate': '2023-09-09T07:00:16Z'}, {'webtitle': 'Biden renews effort to woo India’s Modi in talks before G20 summit', 'sectionname': 'US news', 'publisheddate': '2023-09-08T18:48:58Z'}, {'webtitle': 'The US should not normalize Modi’s autocratic and illiberal India at the G20 | Jason Stanley', 'sectionname': 'Opinion', 'publisheddate': '2023-09-08T10:05:35Z'}, {'webtitle': 'India or Bharat? G20 invitations throw up question dating back centuries', 'sectionname': 'World news', 'publisheddate': '2023-09-07T01:00:12Z'}, {'webtitle': 'The Guardian view on India’s G20 summit: a backsliding democracy gets to play host | Editorial', 'sectionname': 'Opinion', 'publisheddate': '2023-09-06T17:25:03Z'}, {'webtitle': 'In newly gleaming Delhi, Modi hopes G20 will cement India as a major global player', 'sectionname': 'World news', 'publisheddate': '2023-09-05T23:12:07Z'}, {'webtitle': 'The Guardian view on Russian history: the past is a work in progress | Editorial', 'sectionname': 'Opinion', 'publisheddate': '2023-09-03T17:25:18Z'}, {'webtitle': 'Modi’s unifying message for the G20 summit looks dated as globalisation falls apart', 'sectionname': 'Business', 'publisheddate': '2023-09-02T23:05:17Z'}, {'webtitle': 'Rahul Gandhi demands Modi investigation into Adani Group', 'sectionname': 'World news', 'publisheddate': '2023-08-31T17:58:12Z'}, {'webtitle': ' Modi-linked Adani family secretly invested in own shares, documents suggest', 'sectionname': 'World news', 'publisheddate': '2023-08-30T23:01:28Z'}, {'webtitle': '‘Nobody knows what I know’: how a loyal RSS member abandoned Hindu nationalism', 'sectionname': 'World news', 'publisheddate': '2024-08-01T04:00:35Z'}, {'webtitle': 'The New India by Rahul Bhatia review – how nationalism changed a country', 'sectionname': 'Books', 'publisheddate': '2024-07-31T06:30:16Z'}, {'webtitle': 'Why is Modi sucking up to Putin? It’s simple and cynical: China and oil | Sergey Radchenko', 'sectionname': 'Opinion', 'publisheddate': '2024-07-10T10:00:53Z'}, {'webtitle': 'Modi and Putin cement ‘bonds of friendship’ despite Ukraine tensions', 'sectionname': 'World news', 'publisheddate': '2024-07-09T14:25:08Z'}, {'webtitle': 'India PM Modi to meet Putin in first trip to Russia since Ukraine war began', 'sectionname': 'World news', 'publisheddate': '2024-07-05T01:48:48Z'}, {'webtitle': 'Open letter in India calls for withdrawal of go-ahead to prosecute Arundhati Roy', 'sectionname': 'World news', 'publisheddate': '2024-06-23T15:59:48Z'}, {'webtitle': 'The hounding of Arundhati Roy shows there’s still no room for dissent in India | Salil Tripathi', 'sectionname': 'Opinion', 'publisheddate': '2024-06-21T14:32:37Z'}, {'webtitle': 'Consensus or division? How Modi will manage Indian coalition government', 'sectionname': 'World news', 'publisheddate': '2024-06-17T07:27:53Z'}, {'webtitle': 'India: author Arundhati Roy to be prosecuted over 2010 Kashmir remarks', 'sectionname': 'World news', 'publisheddate': '2024-06-15T14:07:37Z'}, {'webtitle': 'Narendra Modi sworn in for third term as prime minister of India', 'sectionname': 'World news', 'publisheddate': '2024-06-09T15:21:08Z'}, {'webtitle': '‘Indian democracy fought back’: Modi humbled as opposition gains ground', 'sectionname': 'World news', 'publisheddate': '2024-06-09T10:08:10Z'}, {'webtitle': '‘A sweet breeze amid a heatwave’: liberals feel hope again following Narendra Modi’s loss of his majority ', 'sectionname': 'World news', 'publisheddate': '2024-06-08T16:08:56Z'}, {'webtitle': 'Muted election win for Modi may usher in new era for India’s oligarch class', 'sectionname': 'World news', 'publisheddate': '2024-06-07T13:27:17Z'}, {'webtitle': 'British Indians: share your reaction to the election in India', 'sectionname': 'World news', 'publisheddate': '2024-06-07T10:29:05Z'}, {'webtitle': 'Narendra Modi faces first coalition test as allied parties demand cabinet seats', 'sectionname': 'World news', 'publisheddate': '2024-06-06T17:10:53Z'}, {'webtitle': 'Thursday briefing: Narendra Modi reaches a crossroads as India denies him a majority in election upset', 'sectionname': 'World news', 'publisheddate': '2024-06-06T05:49:38Z'}, {'webtitle': 'Narendra Modi wins backing of allies to form Indian government', 'sectionname': 'World news', 'publisheddate': '2024-06-05T18:28:43Z'}, {'webtitle': '‘Bit of a moment for Rahul Gandhi’: new dawn for India’s opposition, but where to now?', 'sectionname': 'World news', 'publisheddate': '2024-06-05T18:13:26Z'}, {'webtitle': 'The Guardian view on Modi’s election disappointment: the winner is democracy in India | Editorial', 'sectionname': 'Opinion', 'publisheddate': '2024-06-05T17:30:28Z'}, {'webtitle': 'How voters turned against Narendra Modi in his party’s heartland', 'sectionname': 'World news', 'publisheddate': '2024-06-05T15:25:05Z'}, {'webtitle': 'The hidden story behind India’s remarkable election results: lethal heat | Amitava Kumar', 'sectionname': 'Opinion', 'publisheddate': '2024-06-05T14:14:46Z'}, {'webtitle': 'Modi loses parliamentary majority in Indian election', 'sectionname': 'World news', 'publisheddate': '2024-06-05T00:59:10Z'}, {'webtitle': 'Narendra Modi loses aura of invincibility as predicted landslide fails to materialise', 'sectionname': 'World news', 'publisheddate': '2024-06-04T18:52:31Z'}, {'webtitle': 'John Oliver on Narendra Modi: ‘India seems to be sliding toward authoritarianism’', 'sectionname': 'Television & radio', 'publisheddate': '2024-06-03T16:24:03Z'}, {'webtitle': 'India elections: exit polls show Narendra Modi expected to win historic third term', 'sectionname': 'World news', 'publisheddate': '2024-06-03T03:50:16Z'}, {'webtitle': 'The Incarcerations: BK-16 and the Search for Democracy in India by Alpa Shah – review', 'sectionname': 'Books', 'publisheddate': '2024-06-02T15:00:07Z'}, {'webtitle': 'The Guardian view on India’s election: Narendra Modi’s audacity of hate | Editorial', 'sectionname': 'Opinion', 'publisheddate': '2024-05-30T17:52:58Z'}, {'webtitle': 'India elections: PM Narendra Modi claims he has been chosen by God', 'sectionname': 'World news', 'publisheddate': '2024-05-27T06:56:56Z'}, {'webtitle': 'More than half the world cannot speak freely, report finds', 'sectionname': 'Global development', 'publisheddate': '2024-05-22T03:00:03Z'}, {'webtitle': 'Revealed: Meta approved political ads in India that incited violence', 'sectionname': 'World news', 'publisheddate': '2024-05-20T10:00:02Z'}, {'webtitle': '‘Modi builds highways but where are our jobs?’: rising inequality looms over India’s election ', 'sectionname': 'World news', 'publisheddate': '2024-05-20T02:00:52Z'}, {'webtitle': '‘He likes scaring people’: how Modi’s right-hand man, Amit Shah, runs India', 'sectionname': 'World news', 'publisheddate': '2024-05-16T04:00:57Z'}, {'webtitle': '‘Pressured to withdraw’: BJP accused of intimidation tactics in India polls ', 'sectionname': 'World news', 'publisheddate': '2024-05-14T02:00:22Z'}, {'webtitle': 'Can Modi finally win over the southern states and reshape India’s electoral map?', 'sectionname': 'World news', 'publisheddate': '2024-05-07T03:00:03Z'}, {'webtitle': 'With India’s election in full swing, Narendra Modi is getting desperate – and dangerous | Salil Tripathi', 'sectionname': 'Opinion', 'publisheddate': '2024-04-29T12:51:42Z'}, {'webtitle': 'India election: fears that Modi’s BJP will polarise voters in fight for key state', 'sectionname': 'World news', 'publisheddate': '2024-04-26T01:00:24Z'}, {'webtitle': 'Narendra Modi accused of stirring tensions as voting in India continues', 'sectionname': 'World news', 'publisheddate': '2024-04-22T17:35:16Z'}, {'webtitle': 'As India goes to the polls, can democracy deliver a better life for all of its people? ', 'sectionname': 'Global development', 'publisheddate': '2024-04-20T06:30:19Z'}, {'webtitle': '‘Messianic spell’: how Narendra Modi created a cult of personality', 'sectionname': 'World news', 'publisheddate': '2024-04-19T12:08:31Z'}, {'webtitle': 'Voting begins in India’s election with Modi widely expected to win third term', 'sectionname': 'World news', 'publisheddate': '2024-04-19T02:30:01Z'}, {'webtitle': 'Six weeks, 969 million voters, 2,600 parties: India’s mammoth election explained', 'sectionname': 'World news', 'publisheddate': '2024-04-18T04:00:20Z'}, {'webtitle': 'The Guardian view on India’s election: fixing a win by outlawing dissent damages democracy | Editorial', 'sectionname': 'Opinion', 'publisheddate': '2024-04-17T17:32:19Z'}, {'webtitle': 'Brought to boil: inside the 19 April Guardian Weekly', 'sectionname': 'News', 'publisheddate': '2024-04-17T17:05:08Z'}, {'webtitle': '‘I was told I’d be killed if I didn’t leave’: Himalayan state is a testing ground for Modi’s nationalism', 'sectionname': 'World news', 'publisheddate': '2024-04-14T10:00:50Z'}, {'webtitle': 'A nagging doubt plagues world leaders wooing India: whose side is Narendra Modi really on? | Simon Tisdall', 'sectionname': 'Opinion', 'publisheddate': '2024-04-13T15:00:26Z'}, {'webtitle': '‘BJP v democracy’: India’s opposition alliance cries foul as election nears', 'sectionname': 'World news', 'publisheddate': '2024-04-09T01:00:37Z'}, {'webtitle': 'India appears to confirm extrajudicial killings in Pakistan', 'sectionname': 'World news', 'publisheddate': '2024-04-05T15:40:16Z'}, {'webtitle': 'Arvind Kejriwal: the Delhi chief minister jailed by Modi’s government', 'sectionname': 'World news', 'publisheddate': '2024-03-28T18:10:52Z'}, {'webtitle': '‘Brazen propaganda’: pro-Modi films flood Bollywood before India election', 'sectionname': 'Film', 'publisheddate': '2024-03-22T11:32:51Z'}, {'webtitle': 'Who congratulated Putin on his election victory and what does it say about global alliances?', 'sectionname': 'World news', 'publisheddate': '2024-03-19T05:45:57Z'}, {'webtitle': 'Narendra Modi’s BJP given £570m under scheme allowing anonymous donations', 'sectionname': 'World news', 'publisheddate': '2024-03-15T13:16:54Z'}, {'webtitle': 'Narendra Modi visits Kashmir for first time since state’s autonomy stripped', 'sectionname': 'World news', 'publisheddate': '2024-03-07T11:12:16Z'}, {'webtitle': '‘Why are you asleep?’ Rahul Gandhi pleads with India’s low castes to vote out Modi', 'sectionname': 'World news', 'publisheddate': '2024-02-27T04:00:10Z'}, {'webtitle': 'India confronts Google over Gemini AI tool’s ‘fascist Modi’ responses', 'sectionname': 'World news', 'publisheddate': '2024-02-26T09:42:29Z'}, {'webtitle': 'The Guardian view on Modi in Ayodhya: an alarming new era for India | Editorial', 'sectionname': 'Opinion', 'publisheddate': '2024-01-22T18:42:19Z'}, {'webtitle': 'As petals rained down and celebrities beamed, Modi unveiled his vision of a Hindu India | Mukul Kesavan', 'sectionname': 'Opinion', 'publisheddate': '2024-01-22T14:18:35Z'}, {'webtitle': 'Modi inaugurates Hindu temple on site of razed mosque in India', 'sectionname': 'World news', 'publisheddate': '2024-01-22T08:17:14Z'}, {'webtitle': 'Divine moment or political gimmick? India gears up to inaugurate huge Hindu temple', 'sectionname': 'World news', 'publisheddate': '2024-01-15T13:49:18Z'}, {'webtitle': 'Modi trip to Indian islands prompts Maldives row', 'sectionname': 'World news', 'publisheddate': '2024-01-08T10:00:45Z'}, {'webtitle': 'BJP win in India’s 2024 general election ‘almost an inevitability’', 'sectionname': 'World news', 'publisheddate': '2023-12-31T09:02:05Z'}, {'webtitle': 'The world in 2024: Guardian writers on what to look out for', 'sectionname': 'World news', 'publisheddate': '2023-12-30T12:00:33Z'}, {'webtitle': 'The Guardian view on the power of hope: a Christmas gift in dark times | Editorial', 'sectionname': 'Opinion', 'publisheddate': '2023-12-22T18:30:03Z'}, {'webtitle': 'An MP, her ex and their dog: Mahua Moitra’s battle with India’s parliament', 'sectionname': 'World news', 'publisheddate': '2023-12-22T03:01:43Z'}, {'webtitle': 'Indian government accused of attack on democracy as 141 MPs suspended', 'sectionname': 'World news', 'publisheddate': '2023-12-19T16:29:06Z'}, {'webtitle': 'India’s supreme court upholds decision to strip Kashmir of special status', 'sectionname': 'World news', 'publisheddate': '2023-12-11T09:48:46Z'}, {'webtitle': 'No 10 team arrives in Delhi to revive talks over free trade deal', 'sectionname': 'Politics', 'publisheddate': '2023-12-08T15:56:12Z'}, {'webtitle': 'India takes strong pro-Israel stance under Modi in a departure from the past', 'sectionname': 'World news', 'publisheddate': '2023-10-31T05:00:34Z'}, {'webtitle': 'Arundhati Roy is being hounded by the Indian state. This is a test case for its democracy | Meena Kandasamy', 'sectionname': 'Opinion', 'publisheddate': '2023-10-20T11:35:24Z'}, {'webtitle': 'The Guardian view on World Cup sportwashing: money talks – and what it says is troubling | Editorial', 'sectionname': 'Opinion', 'publisheddate': '2023-10-08T17:25:47Z'}, {'webtitle': 'Delhi police search journalists’ homes in latest raids on media', 'sectionname': 'World news', 'publisheddate': '2023-10-03T15:16:27Z'}, {'webtitle': '‘A tool of political control’: how India became the world leader in internet blackouts', 'sectionname': 'World news', 'publisheddate': '2023-09-25T05:01:41Z'}, {'webtitle': 'The Observer view on assassination of Sikh in Canada: Narendra Modi’s hubris is ill-judged | Observer editorial', 'sectionname': 'Opinion', 'publisheddate': '2023-09-24T05:04:13Z'}, {'webtitle': 'How should UK, US and Australia respond to Canada-India row?', 'sectionname': 'World news', 'publisheddate': '2023-09-20T18:52:20Z'}, {'webtitle': ' Canada killing adds to suspicions of Indian crackdown on Sikh separatists', 'sectionname': 'World news', 'publisheddate': '2023-09-19T18:33:17Z'}, {'webtitle': 'The Guardian view on Canada and India: from partnership to public claims of a killing | Editorial', 'sectionname': 'Opinion', 'publisheddate': '2023-09-19T18:14:45Z'}, {'webtitle': '‘Chill out’: Albanese asked about calling Indian PM ‘the boss’ as storm brews over alleged assassination', 'sectionname': 'Australia news', 'publisheddate': '2023-09-19T06:19:27Z'}, {'webtitle': '‘Credible allegations’ link India to killing of Sikh leader, says Trudeau', 'sectionname': 'World news', 'publisheddate': '2023-09-19T03:06:00Z'}, {'webtitle': 'Watered-down G20 statement on Ukraine is sign of India’s growing influence', 'sectionname': 'World news', 'publisheddate': '2023-09-10T13:01:35Z'}, {'webtitle': 'Modi has boosted his image, but the G20 summit looks set to achieve little else | Observer editorial', 'sectionname': 'Opinion', 'publisheddate': '2023-09-10T05:03:42Z'}, {'webtitle': 'G20 leaders agree joint declaration after deal on Ukraine statement', 'sectionname': 'World news', 'publisheddate': '2023-09-09T13:16:53Z'}, {'webtitle': 'What Modi won’t show the G20: Muslims killed, harassed by the police and abused in school | Rana Ayyub', 'sectionname': 'Opinion', 'publisheddate': '2023-09-09T07:00:16Z'}, {'webtitle': 'Biden renews effort to woo India’s Modi in talks before G20 summit', 'sectionname': 'US news', 'publisheddate': '2023-09-08T18:48:58Z'}, {'webtitle': 'The US should not normalize Modi’s autocratic and illiberal India at the G20 | Jason Stanley', 'sectionname': 'Opinion', 'publisheddate': '2023-09-08T10:05:35Z'}, {'webtitle': 'India or Bharat? G20 invitations throw up question dating back centuries', 'sectionname': 'World news', 'publisheddate': '2023-09-07T01:00:12Z'}, {'webtitle': 'The Guardian view on India’s G20 summit: a backsliding democracy gets to play host | Editorial', 'sectionname': 'Opinion', 'publisheddate': '2023-09-06T17:25:03Z'}, {'webtitle': 'In newly gleaming Delhi, Modi hopes G20 will cement India as a major global player', 'sectionname': 'World news', 'publisheddate': '2023-09-05T23:12:07Z'}, {'webtitle': 'The Guardian view on Russian history: the past is a work in progress | Editorial', 'sectionname': 'Opinion', 'publisheddate': '2023-09-03T17:25:18Z'}, {'webtitle': 'Modi’s unifying message for the G20 summit looks dated as globalisation falls apart', 'sectionname': 'Business', 'publisheddate': '2023-09-02T23:05:17Z'}, {'webtitle': 'Rahul Gandhi demands Modi investigation into Adani Group', 'sectionname': 'World news', 'publisheddate': '2023-08-31T17:58:12Z'}, {'webtitle': ' Modi-linked Adani family secretly invested in own shares, documents suggest', 'sectionname': 'World news', 'publisheddate': '2023-08-30T23:01:28Z'}]\n"
     ]
    }
   ],
   "source": [
    "\n",
    "print(finallist)"
   ]
  },
  {
   "cell_type": "code",
   "execution_count": 35,
   "id": "82bb5bcc-ad82-4333-91be-bb1746459b1b",
   "metadata": {},
   "outputs": [
    {
     "data": {
      "text/html": [
       "<div>\n",
       "<style scoped>\n",
       "    .dataframe tbody tr th:only-of-type {\n",
       "        vertical-align: middle;\n",
       "    }\n",
       "\n",
       "    .dataframe tbody tr th {\n",
       "        vertical-align: top;\n",
       "    }\n",
       "\n",
       "    .dataframe thead th {\n",
       "        text-align: right;\n",
       "    }\n",
       "</style>\n",
       "<table border=\"1\" class=\"dataframe\">\n",
       "  <thead>\n",
       "    <tr style=\"text-align: right;\">\n",
       "      <th></th>\n",
       "      <th>webtitle</th>\n",
       "      <th>sectionname</th>\n",
       "      <th>publisheddate</th>\n",
       "    </tr>\n",
       "  </thead>\n",
       "  <tbody>\n",
       "    <tr>\n",
       "      <th>0</th>\n",
       "      <td>‘Nobody knows what I know’: how a loyal RSS me...</td>\n",
       "      <td>World news</td>\n",
       "      <td>2024-08-01T04:00:35Z</td>\n",
       "    </tr>\n",
       "    <tr>\n",
       "      <th>1</th>\n",
       "      <td>The New India by Rahul Bhatia review – how nat...</td>\n",
       "      <td>Books</td>\n",
       "      <td>2024-07-31T06:30:16Z</td>\n",
       "    </tr>\n",
       "    <tr>\n",
       "      <th>2</th>\n",
       "      <td>Why is Modi sucking up to Putin? It’s simple a...</td>\n",
       "      <td>Opinion</td>\n",
       "      <td>2024-07-10T10:00:53Z</td>\n",
       "    </tr>\n",
       "    <tr>\n",
       "      <th>3</th>\n",
       "      <td>Modi and Putin cement ‘bonds of friendship’ de...</td>\n",
       "      <td>World news</td>\n",
       "      <td>2024-07-09T14:25:08Z</td>\n",
       "    </tr>\n",
       "    <tr>\n",
       "      <th>4</th>\n",
       "      <td>India PM Modi to meet Putin in first trip to R...</td>\n",
       "      <td>World news</td>\n",
       "      <td>2024-07-05T01:48:48Z</td>\n",
       "    </tr>\n",
       "    <tr>\n",
       "      <th>...</th>\n",
       "      <td>...</td>\n",
       "      <td>...</td>\n",
       "      <td>...</td>\n",
       "    </tr>\n",
       "    <tr>\n",
       "      <th>275</th>\n",
       "      <td>In newly gleaming Delhi, Modi hopes G20 will c...</td>\n",
       "      <td>World news</td>\n",
       "      <td>2023-09-05T23:12:07Z</td>\n",
       "    </tr>\n",
       "    <tr>\n",
       "      <th>276</th>\n",
       "      <td>The Guardian view on Russian history: the past...</td>\n",
       "      <td>Opinion</td>\n",
       "      <td>2023-09-03T17:25:18Z</td>\n",
       "    </tr>\n",
       "    <tr>\n",
       "      <th>277</th>\n",
       "      <td>Modi’s unifying message for the G20 summit loo...</td>\n",
       "      <td>Business</td>\n",
       "      <td>2023-09-02T23:05:17Z</td>\n",
       "    </tr>\n",
       "    <tr>\n",
       "      <th>278</th>\n",
       "      <td>Rahul Gandhi demands Modi investigation into A...</td>\n",
       "      <td>World news</td>\n",
       "      <td>2023-08-31T17:58:12Z</td>\n",
       "    </tr>\n",
       "    <tr>\n",
       "      <th>279</th>\n",
       "      <td>Modi-linked Adani family secretly invested in...</td>\n",
       "      <td>World news</td>\n",
       "      <td>2023-08-30T23:01:28Z</td>\n",
       "    </tr>\n",
       "  </tbody>\n",
       "</table>\n",
       "<p>280 rows × 3 columns</p>\n",
       "</div>"
      ],
      "text/plain": [
       "                                              webtitle sectionname  \\\n",
       "0    ‘Nobody knows what I know’: how a loyal RSS me...  World news   \n",
       "1    The New India by Rahul Bhatia review – how nat...       Books   \n",
       "2    Why is Modi sucking up to Putin? It’s simple a...     Opinion   \n",
       "3    Modi and Putin cement ‘bonds of friendship’ de...  World news   \n",
       "4    India PM Modi to meet Putin in first trip to R...  World news   \n",
       "..                                                 ...         ...   \n",
       "275  In newly gleaming Delhi, Modi hopes G20 will c...  World news   \n",
       "276  The Guardian view on Russian history: the past...     Opinion   \n",
       "277  Modi’s unifying message for the G20 summit loo...    Business   \n",
       "278  Rahul Gandhi demands Modi investigation into A...  World news   \n",
       "279   Modi-linked Adani family secretly invested in...  World news   \n",
       "\n",
       "            publisheddate  \n",
       "0    2024-08-01T04:00:35Z  \n",
       "1    2024-07-31T06:30:16Z  \n",
       "2    2024-07-10T10:00:53Z  \n",
       "3    2024-07-09T14:25:08Z  \n",
       "4    2024-07-05T01:48:48Z  \n",
       "..                    ...  \n",
       "275  2023-09-05T23:12:07Z  \n",
       "276  2023-09-03T17:25:18Z  \n",
       "277  2023-09-02T23:05:17Z  \n",
       "278  2023-08-31T17:58:12Z  \n",
       "279  2023-08-30T23:01:28Z  \n",
       "\n",
       "[280 rows x 3 columns]"
      ]
     },
     "execution_count": 35,
     "metadata": {},
     "output_type": "execute_result"
    }
   ],
   "source": [
    "datanew = pd.DataFrame(finallist)\n",
    "datanew"
   ]
  },
  {
   "cell_type": "code",
   "execution_count": null,
   "id": "fe4f6c0e-e04b-40a4-b314-8e19c55c18a5",
   "metadata": {},
   "outputs": [],
   "source": []
  }
 ],
 "metadata": {
  "kernelspec": {
   "display_name": "Python 3 (ipykernel)",
   "language": "python",
   "name": "python3"
  },
  "language_info": {
   "codemirror_mode": {
    "name": "ipython",
    "version": 3
   },
   "file_extension": ".py",
   "mimetype": "text/x-python",
   "name": "python",
   "nbconvert_exporter": "python",
   "pygments_lexer": "ipython3",
   "version": "3.12.3"
  }
 },
 "nbformat": 4,
 "nbformat_minor": 5
}
